{
 "cells": [
  {
   "cell_type": "code",
   "execution_count": 26,
   "metadata": {},
   "outputs": [],
   "source": [
    "import numpy as np\n",
    "import matplotlib.pyplot as plt\n",
    "import seaborn as sns"
   ]
  },
  {
   "cell_type": "code",
   "execution_count": 41,
   "metadata": {},
   "outputs": [],
   "source": [
    "def generate_result(class_num,ins_num):\n",
    "    result = [tuple(np.random.randint(0,class_num,2)) for i in range (ins_num)]\n",
    "    return result"
   ]
  },
  {
   "cell_type": "code",
   "execution_count": 42,
   "metadata": {},
   "outputs": [
    {
     "name": "stdout",
     "output_type": "stream",
     "text": [
      "[(1, 0), (1, 1), (2, 2), (1, 1), (2, 0), (2, 0), (1, 2), (0, 1), (1, 2), (0, 1), (2, 0), (2, 2), (1, 1), (1, 2), (2, 0), (2, 2), (0, 0), (0, 2), (1, 0), (1, 2)]\n"
     ]
    }
   ],
   "source": [
    "method1 = generate_result(3, 20)\n",
    "print(method1)"
   ]
  },
  {
   "cell_type": "code",
   "execution_count": 43,
   "metadata": {},
   "outputs": [
    {
     "name": "stdout",
     "output_type": "stream",
     "text": [
      "[(2, 1), (2, 1), (2, 1), (0, 1), (0, 1), (0, 0), (0, 1), (1, 1), (0, 2), (2, 0), (1, 0), (2, 1), (2, 1), (0, 1), (1, 1), (2, 1), (2, 1), (0, 0), (0, 0), (1, 1)]\n"
     ]
    }
   ],
   "source": [
    "method2 = generate_result(3, 20)\n",
    "print(method2)"
   ]
  },
  {
   "cell_type": "code",
   "execution_count": 31,
   "metadata": {},
   "outputs": [],
   "source": [
    "class Evaluation:\n",
    "    num_of_class = 0\n",
    "    num_of_inst = 0\n",
    "    result = []\n",
    "    multiclass_matrix=None\n",
    "    correct_pre = []\n",
    "    actual_num = []\n",
    "    predict_num = []\n",
    "    \n",
    "    def __init__(self,result,num_of_class):\n",
    "        self.result = result\n",
    "        self.num_of_class = num_of_class\n",
    "        self.num_of_inst = len(result)\n",
    "        self.multiclass_matrix = self.generate_matrix()\n",
    "        self.precess_matrix()\n",
    "    \n",
    "    def generate_matrix(self):\n",
    "        matrix = np.zeros((self.num_of_class, self.num_of_class))\n",
    "        for tup in self.result:\n",
    "            matrix[tup[0]][tup[1]]+=1\n",
    "        return matrix\n",
    "    \n",
    "    def precess_matrix(self):\n",
    "        self.correct_pre = [self.multiclass_matrix[i][i] for i in range(self.num_of_class)]\n",
    "        self.actual_num = [self.multiclass_matrix[i].sum() for i in range(self.num_of_class)]\n",
    "        self.predict_num = [self.multiclass_matrix[:,i].sum() for i in range(self.num_of_class)]\n",
    "    \n",
    "    \n",
    "    def calculate_accuracy(self):\n",
    "        accuracy = sum(self.correct_pre)/sum(self.actual_num)\n",
    "        return accuracy\n",
    "    \n",
    "    def calculate_Macro_value(self):\n",
    "        ###precision###\n",
    "        precision = sum([self.correct_pre[i]/self.predict_num[i] for i in range(self.num_of_class)])/self.num_of_class\n",
    "        ###recall###\n",
    "        recall = sum([self.correct_pre[i]/self.actual_num[i] for i in range(self.num_of_class)])/self.num_of_class\n",
    "        return [precision, recall]\n",
    "    \n",
    "    \n",
    "    def calculate_Micro_value(self):\n",
    "        ###precision###\n",
    "        precision = sum(self.correct_pre)/sum(self.predict_num)\n",
    "        ###recall###\n",
    "        recall = sum(self.correct_pre)/sum(self.actual_num)\n",
    "        return [precision, recall]\n",
    "    \n",
    "    def calculate_weight_value(self):\n",
    "        ###precision###\n",
    "        precision = sum([(self.actual_num[i]/self.num_of_inst)*(self.correct_pre[i]/self.predict_num[i])for i in range(self.num_of_class)])\n",
    "        ###recall###\n",
    "        recall = sum([(self.actual_num[i]/self.num_of_inst)*(self.correct_pre[i]/self.actual_num[i])for i in range(self.num_of_class)])\n",
    "        return [precision, recall]\n",
    "        \n",
    "        \n",
    "    def draw_heatmap_d(self):\n",
    "        sns.heatmap(self.multiclass_matrix, vmin=0, vmax=len(self.result), annot=True,cmap=\"RdPu_r\", fmt='.20g')\n",
    "        plt.show()\n",
    "        \n",
    "    def draw_heatmap_f(self):\n",
    "        sns.heatmap(self.multiclass_matrix/len(self.result), vmin=0, vmax=1, annot=True,cmap=\"RdPu_r\", fmt='.2g')\n",
    "        plt.show()  \n",
    "        \n",
    "    def draw_bar_chart(self):\n",
    "        names = [\"calss\"+str(i) for i in range(self.num_of_class)]\n",
    "        plt.figure(figsize=(10,6), dpi=80)\n",
    "        x = range(len(names))\n",
    "        \n",
    "        plt.bar(x, self.actual_num, width=0.1)\n",
    "        plt.bar([i + 0.1 for i in x], self.predict_num, width=0.1)\n",
    "        plt.bar([i + 0.2 for i in x], self.correct_pre, width=0.1)\n",
    "\n",
    "        plt.xticks([i + 0.05 for i in x], names)\n",
    "        \n",
    "        plt.xlabel('Class Name', fontsize=14)\n",
    "        plt.ylabel('Number Of Each Class', fontsize=14)\n",
    "        plt.show()\n",
    "        \n",
    "        \n",
    "    def evaluate(self):\n",
    "        ################################Calculate Accuracy##################################\n",
    "        accuracy = self.calculate_accuracy()\n",
    "        \n",
    "        print(\"accuracy is: %f\" %accuracy)\n",
    "        print(\"error rate is: %f\"%(1-accuracy))\n",
    "\n",
    "        ##macro averaging\n",
    "        precisionMa, recallMa = self.calculate_Macro_value()\n",
    "        print(\"Marco averaging precision is: %f\" %precisionMa)\n",
    "        print(\"Marco averaging recall is: %f\" %recallMa)\n",
    "        \n",
    "        #micro averaging\n",
    "        precisionMi, recallMi = self.calculate_Micro_value()\n",
    "        print(\"Mirco averaging precision is: %f\" %precisionMi)\n",
    "        print(\"Mirco averaging recall is: %f\" %recallMi)\n",
    "        \n",
    "        #weight averaging\n",
    "        precisionWe, recallWe = self.calculate_weight_value()\n",
    "        print(\"weight averaging precision is: %f\" %precisionWe)\n",
    "        print(\"weight averaging recall is: %f\" %recallWe)\n",
    "        \n",
    "        ###################################Draw Graphs######################################\n",
    "        #self.draw_heatmap_d()\n",
    "        #self.draw_heatmap_f()\n",
    "        #self.draw_bar_chart()\n",
    "        \n",
    "        "
   ]
  },
  {
   "cell_type": "code",
   "execution_count": 45,
   "metadata": {},
   "outputs": [],
   "source": [
    "evaluation1 = Evaluation(method1, 3)\n",
    "evaluation2 = Evaluation(method2, 3)"
   ]
  },
  {
   "cell_type": "code",
   "execution_count": 47,
   "metadata": {},
   "outputs": [],
   "source": [
    "#这里使用Macro Averaging\n",
    "accuracy1 = evaluation1.calculate_accuracy()\n",
    "accuracy2 = evaluation2.calculate_accuracy()\n",
    "precision1,recall1 = evaluation1.calculate_Macro_value()\n",
    "precision2,recall2 = evaluation2.calculate_Macro_value()\n",
    "\n",
    "value_names = ['accuracy', 'precision','recall']\n",
    "values1 = [accuracy1,precision1,recall1]\n",
    "values2 = [accuracy2,precision2,recall2]"
   ]
  },
  {
   "cell_type": "code",
   "execution_count": 60,
   "metadata": {},
   "outputs": [
    {
     "data": {
      "image/png": "[encoded data removed]",
      "text/plain": [
       "<Figure size 800x480 with 1 Axes>"
      ]
     },
     "metadata": {
      "needs_background": "light"
     },
     "output_type": "display_data"
    }
   ],
   "source": [
    "#draw the bar chart\n",
    "plt.figure(figsize=(10,6), dpi=80)\n",
    "x = range(len(value_names))\n",
    "\n",
    "m1 = plt.bar(x, values1, width=0.1)\n",
    "m2 = plt.bar([i + 0.1 for i in x], values2, width=0.1)\n",
    "\n",
    "plt.xticks([i + 0.05 for i in x], value_names)\n",
    "plt.legend((m1,m2),(\"method1\",\"method2\"), loc=\"upper right\")\n",
    "\n",
    "def autolabel(rects): \n",
    "    for rect in rects:\n",
    "        height = rect.get_height()\n",
    "        plt.text(rect.get_x()+rect.get_width()/2., 1.03*height, '%s' % float(height))\n",
    "\n",
    "autolabel(m1)\n",
    "autolabel(m2)\n",
    "\n",
    "plt.xlabel('value name', fontsize=14)\n",
    "plt.ylabel('precentage', fontsize=14)\n",
    "plt.show()\n"
   ]
  }
 ],
 "metadata": {
  "kernelspec": {
   "display_name": "Python 3",
   "language": "python",
   "name": "python3"
  },
  "language_info": {
   "codemirror_mode": {
    "name": "ipython",
    "version": 3
   },
   "file_extension": ".py",
   "mimetype": "text/x-python",
   "name": "python",
   "nbconvert_exporter": "python",
   "pygments_lexer": "ipython3",
   "version": "3.7.6"
  }
 },
 "nbformat": 4,
 "nbformat_minor": 4
}
