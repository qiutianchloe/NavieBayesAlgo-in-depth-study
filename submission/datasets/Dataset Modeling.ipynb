{
 "cells": [
  {
   "cell_type": "code",
   "execution_count": null,
   "metadata": {},
   "outputs": [],
   "source": [
    "###Adult Dataset###\n",
    "####################################################################################################\n",
    "filename = \"datasets/adult.data\"\n",
    "classes = (\"<=50K\" , \">50K\")\n",
    "model = Model(\n",
    "    classes,\n",
    "    NumCounter(\"age\"),\n",
    "    NomCounter(\"workclass\"),\n",
    "    NumCounter(\"fnlwgt\"),\n",
    "    NomCounter(\"education\"),\n",
    "    NomCounter(\"education-num\"),\n",
    "    NomCounter(\"marital-status\"),\n",
    "    NomCounter(\"occupation\"),\n",
    "    NomCounter(\"relationship\"),\n",
    "    NomCounter(\"race\"),\n",
    "    NomCounter(\"sex\"),\n",
    "    NumCounter(\"capital-gain\"),\n",
    "    NumCounter(\"capital-loss\"),\n",
    "    NumCounter(\"hours-per-week\"),\n",
    "    NomCounter(\"native-country\"),\n",
    "    ClassCounter(\"salary\")\n",
    ")\n",
    "model.set_filters((\"?\"))"
   ]
  },
  {
   "cell_type": "code",
   "execution_count": null,
   "metadata": {},
   "outputs": [],
   "source": [
    "###Bank Dataset###\n",
    "####################################################################################################\n",
    "#目标data文件\n",
    "filename = \"datasets/bank.data\"\n",
    "#文件中的class名称\n",
    "classes = (\"unacc\" , \"acc\", \"good\", \"vgood\")\n",
    "#设置model\n",
    "model = Model(\n",
    "    classes,\n",
    "    NomCounter(\"buying\"),\n",
    "    NomCounter(\"maint\"),\n",
    "    NomCounter(\"doors\"),\n",
    "    NomCounter(\"persons\"),\n",
    "    NomCounter(\"lug_boot\"),\n",
    "    NomCounter(\"safety\"),\n",
    "    ClassCounter(\"Car Evaluation\")\n",
    ")\n"
   ]
  },
  {
   "cell_type": "code",
   "execution_count": null,
   "metadata": {},
   "outputs": [],
   "source": [
    "###Car Dataset###\n",
    "####################################################################################################\n",
    "#目标data文件\n",
    "filename = \"datasets/car.data\"\n",
    "#文件中的class名称\n",
    "classes = (\"unacc\" , \"acc\", \"good\", \"vgood\")\n",
    "#设置model\n",
    "model = Model(\n",
    "    classes,\n",
    "    NomCounter(\"buying\"),\n",
    "    NomCounter(\"maint\"),\n",
    "    NomCounter(\"doors\"),\n",
    "    NomCounter(\"persons\"),\n",
    "    NomCounter(\"lug_boot\"),\n",
    "    NomCounter(\"safety\"),\n",
    "    ClassCounter(\"Car Evaluation\")\n",
    ")\n"
   ]
  },
  {
   "cell_type": "code",
   "execution_count": null,
   "metadata": {},
   "outputs": [],
   "source": [
    "###Wine Dataset###\n",
    "####################################################################################################\n",
    "filename = \"datasets/wine.data\"\n",
    "classes = (\"1\" , \"2\", \"3\")\n",
    "model = Model(\n",
    "    classes,\n",
    "    ClassCounter(\"Alcohol\"),\n",
    "    NumCounter(\"age\"),\n",
    "    NumCounter(\"Malic acid\"),\n",
    "    NumCounter(\"Ash\"),\n",
    "    NumCounter(\"Alcalinity of ash\"),\n",
    "    NumCounter(\"Magnesium\"),\n",
    "    NumCounter(\"Total phenols\"),\n",
    "    NumCounter(\"Flavanoids\"),\n",
    "    NumCounter(\"Nonflavanoid phenols\"),\n",
    "    NumCounter(\"Proanthocyanins\"),\n",
    "    NumCounter(\"Color intensity\"),\n",
    "    NumCounter(\"Hue\"),\n",
    "    NumCounter(\"OD280/OD315 of diluted wines\"),\n",
    "    NumCounter(\"Proline\")\n",
    ")"
   ]
  },
  {
   "cell_type": "code",
   "execution_count": null,
   "metadata": {},
   "outputs": [],
   "source": []
  }
 ],
 "metadata": {
  "kernelspec": {
   "display_name": "Python 3",
   "language": "python",
   "name": "python3"
  },
  "language_info": {
   "codemirror_mode": {
    "name": "ipython",
    "version": 3
   },
   "file_extension": ".py",
   "mimetype": "text/x-python",
   "name": "python",
   "nbconvert_exporter": "python",
   "pygments_lexer": "ipython3",
   "version": "3.7.6"
  }
 },
 "nbformat": 4,
 "nbformat_minor": 4
}
