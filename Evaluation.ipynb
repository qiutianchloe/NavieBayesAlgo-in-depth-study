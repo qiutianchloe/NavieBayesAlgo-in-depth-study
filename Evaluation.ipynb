{
 "cells": [
  {
   "cell_type": "code",
   "execution_count": 32,
   "metadata": {},
   "outputs": [],
   "source": [
    "import numpy as np\n",
    "import matplotlib.pyplot as plt\n",
    "import seaborn as sns"
   ]
  },
  {
   "cell_type": "code",
   "execution_count": 33,
   "metadata": {},
   "outputs": [],
   "source": [
    "def generate_result(class_num,ins_num):\n",
    "    result = [tuple(np.random.randint(0,class_num,2)) for i in range (ins_num)]\n",
    "    return result"
   ]
  },
  {
   "cell_type": "code",
   "execution_count": 37,
   "metadata": {
    "scrolled": true
   },
   "outputs": [
    {
     "name": "stdout",
     "output_type": "stream",
     "text": [
      "[(0, 0), (1, 1), (2, 0), (0, 0), (0, 2), (0, 2), (2, 1), (0, 0), (1, 0), (0, 0), (0, 0), (1, 1), (2, 2), (0, 0), (1, 0), (1, 0), (1, 1), (1, 2), (0, 2), (2, 1)]\n"
     ]
    }
   ],
   "source": [
    "result2 = generate_result(3, 20)\n",
    "print(result2)"
   ]
  },
  {
   "cell_type": "code",
   "execution_count": 38,
   "metadata": {},
   "outputs": [],
   "source": [
    "class Evaluation:\n",
    "    num_of_class = 0\n",
    "    num_of_inst = 0\n",
    "    result = []\n",
    "    multiclass_matrix=None\n",
    "    correct_pre = []\n",
    "    actual_num = []\n",
    "    predict_num = []\n",
    "    \n",
    "    def __init__(self,result,num_of_class):\n",
    "        self.result = result\n",
    "        self.num_of_class = num_of_class\n",
    "        self.num_of_inst = len(result)\n",
    "    \n",
    "    def generate_matrix(self):\n",
    "        matrix = np.zeros((self.num_of_class, self.num_of_class))\n",
    "        for tup in self.result:\n",
    "            matrix[tup[0]][tup[1]]+=1\n",
    "        return matrix\n",
    "    \n",
    "    def precess_matrix(self):\n",
    "        self.correct_pre = [self.multiclass_matrix[i][i] for i in range(self.num_of_class)]\n",
    "        self.actual_num = [self.multiclass_matrix[i].sum() for i in range(self.num_of_class)]\n",
    "        self.predict_num = [self.multiclass_matrix[:,i].sum() for i in range(self.num_of_class)]\n",
    "    \n",
    "    \n",
    "    def calculate_accuracy(self):\n",
    "        accuracy = sum(self.correct_pre)/sum(self.actual_num)\n",
    "        return accuracy\n",
    "    \n",
    "    def calculate_Macro_value(self):\n",
    "        ###precision###\n",
    "        precision = sum([self.correct_pre[i]/self.predict_num[i] for i in range(self.num_of_class)])/self.num_of_class\n",
    "        ###recall###\n",
    "        recall = sum([self.correct_pre[i]/self.actual_num[i] for i in range(self.num_of_class)])/self.num_of_class\n",
    "        return [precision, recall]\n",
    "    \n",
    "    \n",
    "    def calculate_Micro_value(self):\n",
    "        ###precision###\n",
    "        precision = sum(self.correct_pre)/sum(self.predict_num)\n",
    "        ###recall###\n",
    "        recall = sum(self.correct_pre)/sum(self.actual_num)\n",
    "        return [precision, recall]\n",
    "    \n",
    "    def calculate_weight_value(self):\n",
    "        ###precision###\n",
    "        precision = sum([(self.actual_num[i]/self.num_of_inst)*(self.correct_pre[i]/self.predict_num[i])for i in range(self.num_of_class)])\n",
    "        recall = sum([(self.actual_num[i]/self.num_of_inst)*(self.correct_pre[i]/self.actual_num[i])for i in range(self.num_of_class)])\n",
    "        return [precision, recall]\n",
    "        \n",
    "        \n",
    "    def draw_heatmap_d(self):\n",
    "        sns.heatmap(self.multiclass_matrix, vmin=0, vmax=len(self.result), annot=True,cmap=\"RdPu_r\", fmt='.20g')\n",
    "        plt.show()\n",
    "        \n",
    "    def draw_heatmap_f(self):\n",
    "        sns.heatmap(self.multiclass_matrix/len(self.result), vmin=0, vmax=1, annot=True,cmap=\"RdPu_r\", fmt='.2g')\n",
    "        plt.show()  \n",
    "        \n",
    "    def draw_bar_chart(self):\n",
    "        names = [\"calss\"+str(i) for i in range(self.num_of_class)]\n",
    "        plt.figure(figsize=(10,6), dpi=80)\n",
    "        x = range(len(names))\n",
    "        \n",
    "        plt.bar(x, self.actual_num, width=0.1)\n",
    "        plt.bar([i + 0.1 for i in x], self.predict_num, width=0.1)\n",
    "        plt.bar([i + 0.2 for i in x], self.correct_pre, width=0.1)\n",
    "\n",
    "        plt.xticks([i + 0.05 for i in x], names)\n",
    "        \n",
    "        plt.xlabel('Class Name', fontsize=14)\n",
    "        plt.ylabel('Number Of Each Class', fontsize=14)\n",
    "        plt.show()\n",
    "        \n",
    "        \n",
    "        \n",
    "    def evaluate(self):\n",
    "        self.multiclass_matrix = self.generate_matrix()\n",
    "        self.precess_matrix()\n",
    "        #self.draw_heatmap_d()\n",
    "        #self.draw_heatmap_f()\n",
    "        #self.draw_bar_chart()\n",
    "        ################################Calculate Accuracy##################################\n",
    "        accuracy = self.calculate_accuracy()\n",
    "        \n",
    "        print(\"accuracy is: %f\" %accuracy)\n",
    "        print(\"error rate is: %f\"%(1-accuracy))\n",
    "\n",
    "        ##macro averaging\n",
    "        precisionMa, recallMa = self.calculate_Macro_value()\n",
    "        print(\"Marco averaging precision is: %f\" %precisionMa)\n",
    "        print(\"Marco averaging recall is: %f\" %recallMa)\n",
    "        \n",
    "        #micro averaging\n",
    "        precisionMi, recallMi = self.calculate_Micro_value()\n",
    "        print(\"Mirco averaging precision is: %f\" %precisionMi)\n",
    "        print(\"Mirco averaging recall is: %f\" %recallMi)\n",
    "        \n",
    "        #weight averaging\n",
    "        precisionWe, recallWe = self.calculate_weight_value()\n",
    "        print(\"weight averaging precision is: %f\" %precisionWe)\n",
    "        print(\"weight averaging recall is: %f\" %recallWe)\n",
    "        \n",
    "        \n",
    "        "
   ]
  },
  {
   "cell_type": "code",
   "execution_count": 39,
   "metadata": {},
   "outputs": [
    {
     "name": "stdout",
     "output_type": "stream",
     "text": [
      "accuracy is: 0.500000\n",
      "error rate is: 0.500000\n",
      "Marco averaging precision is: 0.466667\n",
      "Marco averaging recall is: 0.448413\n",
      "Mirco averaging precision is: 0.500000\n",
      "Mirco averaging recall is: 0.500000\n",
      "weight averaging precision is: 0.520000\n",
      "weight averaging recall is: 0.500000\n"
     ]
    }
   ],
   "source": [
    "evalue = Evaluation(result2, 3)\n",
    "evalue.evaluate()"
   ]
  },
  {
   "cell_type": "code",
   "execution_count": 235,
   "metadata": {},
   "outputs": [],
   "source": [
    "def generate_matrix(result, num_of_class):\n",
    "    matrix = np.zeros((num_of_class, num_of_class))\n",
    "    for tup in result:\n",
    "        matrix[tup[0]][tup[1]]+=1\n",
    "    return matrix"
   ]
  },
  {
   "cell_type": "code",
   "execution_count": 259,
   "metadata": {},
   "outputs": [],
   "source": [
    "def evaluate2(result, num_of_class):\n",
    "    #generate the matrix\n",
    "    multiclass_matrix = generate_matrix(result, num_of_class)\n",
    "    \n",
    "    \n",
    "    ################################Calculate Accuracy##################################\n",
    "    correct_pre = [multiclass_matrix[i][i] for i in range(num_of_class)]\n",
    "    actual_num = [multiclass_matrix[i].sum() for i in range(num_of_class)]\n",
    "    predict_num = [multiclass_matrix[:,i].sum() for i in range(num_of_class)] \n",
    "    print(multiclass_matrix)\n",
    "    print(correct_pre)\n",
    "    print(actual_num)\n",
    "    print(predict_num)\n",
    "    ###accuracy###\n",
    "    accuracy = sum(correct_pre)/sum(actual_num)\n",
    "    ####Macro_averaging####\n",
    "    ###precision###\n",
    "    precisionM = sum([correct_pre[i]/predict_num[i] for i in range(num_of_class)])/num_of_class\n",
    "    ###recall###\n",
    "    recallM = sum([correct_pre[i]/actual_num[i] for i in range(num_of_class)])/num_of_class\n",
    "    print(\"accuracy is: %f\" %accuracy)\n",
    "    print(\"precision is: %f\" %precisionM)\n",
    "    print(\"recall is: %f\" %recallM)\n",
    "    print(\"error rate is: %f\"%(1-accuracy))\n",
    "    \n",
    "    \n",
    "    #################################Draw The Heatmap###################################\n",
    "    ####################整数##################\n",
    "    #画heatmap\n",
    "    sns.heatmap(multiclass_matrix, vmin=0, vmax=len(result), annot=True,cmap=\"RdPu_r\", fmt='.20g')\n",
    "    plt.show()\n",
    "    ####################小数##################\n",
    "    sns.heatmap(multiclass_matrix/len(result), vmin=0, vmax=1, annot=True,cmap=\"RdPu_r\", fmt='.2g')\n",
    "    plt.show()\n",
    "    \n",
    "    ###############################柱状图##################################\n",
    "    names = [\"calss\"+str(i) for i in range(num_of_class)]\n",
    "    \n",
    "    plt.figure(figsize=(10,6), dpi=80)\n",
    "\n",
    "    # 先得到movie_name长度, 再得到下标组成列表\n",
    "    x = range(len(names))\n",
    "\n",
    "    plt.bar(x, actual_num, width=0.1)\n",
    "    # 向右移动0.2, 柱状条宽度为0.2\n",
    "    plt.bar([i + 0.1 for i in x], predict_num, width=0.1)\n",
    "    \n",
    "    plt.bar([i + 0.2 for i in x], correct_pre, width=0.1)\n",
    "\n",
    "    # 底部汉字移动到两个柱状条中间(本来汉字是在左边蓝色柱状条下面, 向右移动0.1)\n",
    "    plt.xticks([i + 0.05 for i in x], names)\n",
    "    \n",
    "    plt.xlabel('Class Name', fontsize=14)\n",
    "    plt.ylabel('Number Of Each Class', fontsize=14)\n",
    "    plt.show()"
   ]
  },
  {
   "cell_type": "code",
   "execution_count": 237,
   "metadata": {},
   "outputs": [
    {
     "name": "stdout",
     "output_type": "stream",
     "text": [
      "accuracy is: 0.280000\n",
      "precision is: 0.285572\n",
      "recall is: 0.286029\n",
      "error rate is: 0.720000\n"
     ]
    },
    {
     "data": {
      "image/png": "[encoded data removed]",
      "text/plain": [
       "<Figure size 432x288 with 2 Axes>"
      ]
     },
     "metadata": {
      "needs_background": "light"
     },
     "output_type": "display_data"
    },
    {
     "data": {
      "image/png": "[encoded data removed]",
      "text/plain": [
       "<Figure size 432x288 with 2 Axes>"
      ]
     },
     "metadata": {
      "needs_background": "light"
     },
     "output_type": "display_data"
    },
    {
     "data": {
      "image/png": "[encoded data removed]",
      "text/plain": [
       "<Figure size 800x480 with 1 Axes>"
      ]
     },
     "metadata": {
      "needs_background": "light"
     },
     "output_type": "display_data"
    }
   ],
   "source": [
    "evaluate2(result2, 4)"
   ]
  },
  {
   "cell_type": "code",
   "execution_count": 260,
   "metadata": {},
   "outputs": [
    {
     "name": "stdout",
     "output_type": "stream",
     "text": [
      "1728\n",
      "[[1162.   46.    2.    0.]\n",
      " [  85.  289.   10.    0.]\n",
      " [   0.   46.   21.    2.]\n",
      " [   0.   30.    0.   35.]]\n",
      "[1162.0, 289.0, 21.0, 35.0]\n",
      "[1210.0, 384.0, 69.0, 65.0]\n",
      "[1247.0, 411.0, 33.0, 37.0]\n",
      "accuracy is: 0.872106\n",
      "precision is: 0.804327\n",
      "recall is: 0.638936\n",
      "error rate is: 0.127894\n"
     ]
    },
    {
     "data": {
      "image/png": "[encoded data removed]",
      "text/plain": [
       "<Figure size 432x288 with 2 Axes>"
      ]
     },
     "metadata": {
      "needs_background": "light"
     },
     "output_type": "display_data"
    },
    {
     "data": {
      "image/png": "[encoded data removed]",
      "text/plain": [
       "<Figure size 432x288 with 2 Axes>"
      ]
     },
     "metadata": {
      "needs_background": "light"
     },
     "output_type": "display_data"
    },
    {
     "data": {
      "image/png": "[encoded data removed]",
      "text/plain": [
       "<Figure size 800x480 with 1 Axes>"
      ]
     },
     "metadata": {
      "needs_background": "light"
     },
     "output_type": "display_data"
    }
   ],
   "source": [
    "print(len(result))\n",
    "evaluate2(result, 4)"
   ]
  },
  {
   "cell_type": "code",
   "execution_count": 230,
   "metadata": {},
   "outputs": [
    {
     "name": "stdout",
     "output_type": "stream",
     "text": [
      "[(1, 1), (1, 1), (0, 1), (0, 0), (1, 0), (1, 0), (0, 1), (0, 0), (1, 0), (1, 0), (1, 1), (1, 1), (1, 1), (0, 1), (1, 1), (0, 0), (1, 0), (0, 1), (1, 1), (1, 1)]\n"
     ]
    }
   ],
   "source": [
    "#只有两个class\n",
    "result1 = generate_result(2, 20)\n",
    "print(result1)"
   ]
  },
  {
   "cell_type": "code",
   "execution_count": 231,
   "metadata": {},
   "outputs": [],
   "source": [
    "def find_error_table(result):\n",
    "    #error table [TP, FN, FP, TN]\n",
    "    error_table = [0, 0, 0, 0]\n",
    "    for i in range(len(result)):\n",
    "        if(result[i] == (1, 1)):error_table[0]+=1\n",
    "        elif(result[i] == (1, 0)):error_table[1]+=1\n",
    "        elif(result[i] == (0, 1)):error_table[2]+=1\n",
    "        else:error_table[3]+=1\n",
    "\n",
    "    return error_table"
   ]
  },
  {
   "cell_type": "code",
   "execution_count": 232,
   "metadata": {},
   "outputs": [],
   "source": [
    "#先处理两个class的\n",
    "def evaluate(result):\n",
    "    \n",
    "    \n",
    "    #######################Calculate Accuracy and Error Type#######################\n",
    "    error_tab = find_error_table(result)\n",
    "    \n",
    "    #accuracy = (TP+TN)/(TP+FN+FP+TN)\n",
    "    accuracy = (error_tab[0]+error_tab[3])/len(result)\n",
    "    #precision = TP/(TP+FP)\n",
    "    precision = error_tab[0]/(error_tab[0]+error_tab[2])\n",
    "    #recall = TP/(TP+FN)\n",
    "    recall = error_tab[0]/(error_tab[0]+error_tab[1])\n",
    "    #error rate\n",
    "    error_rate = 1-accuracy\n",
    "    print(\"accuracy is: %f\" %accuracy)\n",
    "    print(\"precision is: %f\" %precision)\n",
    "    print(\"recall is: %f\" %recall)\n",
    "    print(\"error rate is: %f\"%error_rate)\n",
    "    \n",
    "    #################################Draw The Heatmap###################################\n",
    "    #转换成numpy array\n",
    "    err_table = np.array(error_tab)\n",
    "    x = err_table.reshape(2,2)\n",
    "    ####################整数##################\n",
    "    #画heatmap\n",
    "    sns.heatmap(x, vmin=0, vmax=len(result), annot=True,cmap=\"RdPu_r\")\n",
    "    plt.show()\n",
    "    ####################小数##################\n",
    "    sns.heatmap(x/len(result), vmin=0, vmax=1, annot=True,cmap=\"RdPu_r\")\n",
    "    plt.show()\n",
    "    \n",
    "    \n",
    "    ###############################柱状图##################################\n",
    "    act_1 = error_tab[0]+error_tab[1]\n",
    "    act_0 = error_tab[2]+error_tab[3]\n",
    "    pre_1 = error_tab[0]+error_tab[2]\n",
    "    pre_0 = error_tab[1]+error_tab[3] \n",
    "    \n",
    "    plt.figure(figsize=(10,6), dpi=80)\n",
    "    names = ['1','0']\n",
    "    actual = [act_1, act_0]\n",
    "    predict = [pre_1, pre_0]\n",
    "\n",
    "    # 先得到movie_name长度, 再得到下标组成列表\n",
    "    x = range(len(names))\n",
    "\n",
    "    plt.bar(x, actual, width=0.1)\n",
    "    # 向右移动0.2, 柱状条宽度为0.2\n",
    "    plt.bar([i + 0.1 for i in x], predict, width=0.1)\n",
    "    # 底部汉字移动到两个柱状条中间(本来汉字是在左边蓝色柱状条下面, 向右移动0.1)\n",
    "    plt.xticks([i + 0.05 for i in x], names)\n",
    "    plt.xlabel('Class Name', fontsize=14)\n",
    "    plt.ylabel('Number Of Each Class', fontsize=14)\n",
    "    plt.show()"
   ]
  },
  {
   "cell_type": "code",
   "execution_count": 233,
   "metadata": {},
   "outputs": [
    {
     "name": "stdout",
     "output_type": "stream",
     "text": [
      "accuracy is: 0.550000\n",
      "precision is: 0.666667\n",
      "recall is: 0.615385\n",
      "error rate is: 0.450000\n"
     ]
    },
    {
     "data": {
      "image/png": "[encoded data removed]",
      "text/plain": [
       "<Figure size 432x288 with 2 Axes>"
      ]
     },
     "metadata": {
      "needs_background": "light"
     },
     "output_type": "display_data"
    },
    {
     "data": {
      "image/png": "[encoded data removed]",
      "text/plain": [
       "<Figure size 432x288 with 2 Axes>"
      ]
     },
     "metadata": {
      "needs_background": "light"
     },
     "output_type": "display_data"
    },
    {
     "data": {
      "image/png": "[encoded data removed]",
      "text/plain": [
       "<Figure size 800x480 with 1 Axes>"
      ]
     },
     "metadata": {
      "needs_background": "light"
     },
     "output_type": "display_data"
    }
   ],
   "source": [
    "evaluate(result1)"
   ]
  },
  {
   "cell_type": "code",
   "execution_count": 238,
   "metadata": {},
   "outputs": [],
   "source": [
    "import numpy as np\n",
    "import matplotlib.pyplot as plt\n",
    "%matplotlib inline\n",
    "\n",
    "import math\n",
    "from collections import defaultdict\n",
    "from functools import reduce\n",
    "\n",
    "################################\n",
    "\n",
    "class ClassCounter:\n",
    "    def __init__(self, subject):\n",
    "        self.subject = subject\n",
    "\n",
    "    def prepare(self, class_num):\n",
    "        self.__classes_count = [0] * class_num\n",
    "        self.__classes_prob = [0] * class_num\n",
    "    \n",
    "    def add(self, class_index):\n",
    "        self.__classes_count[class_index] += 1\n",
    "    \n",
    "    def run(self):\n",
    "        total = sum(self.__classes_count)\n",
    "        for index, val in enumerate(self.__classes_count):\n",
    "            self.__classes_prob[index] = val/total\n",
    "    \n",
    "    def get(self):\n",
    "        return tuple(self.__classes_prob)\n",
    "    \n",
    "class AttrCounter:\n",
    "    def __init__(self, name):\n",
    "        self.name = name\n",
    "\n",
    "    def prepare(self, class_num):\n",
    "        return\n",
    "    \n",
    "    def add(self, attr, class_index):\n",
    "        return \n",
    "    \n",
    "    def run(self):\n",
    "        return \n",
    "    \n",
    "    def get(self, attr):\n",
    "        return 0\n",
    "    \n",
    "class NomCounter(AttrCounter):\n",
    "    __smooth_alpha = 1\n",
    "    def __init__(self, name):\n",
    "        super().__init__(name)\n",
    "\n",
    "    def prepare(self, class_num):\n",
    "        self.__attr_vals = set()\n",
    "        self.__attr_count = [defaultdict(int) for i in range(class_num)]\n",
    "        self.__attr_prob = [defaultdict(float) for i in range(class_num)]      \n",
    "    \n",
    "    def add(self, attr, class_index):\n",
    "        self.__attr_vals.add(attr)\n",
    "        self.__attr_count[class_index][attr] += 1\n",
    "    \n",
    "    def run(self):\n",
    "        dimension = len(self.__attr_vals)\n",
    "        for index, attrs in enumerate(self.__attr_count):\n",
    "            total = reduce(lambda x, y: x + y, attrs.values())\n",
    "            for val in self.__attr_vals:\n",
    "                self.__attr_prob[index][val] = self._laplace_smooth(attrs[val], total, dimension)\n",
    "    \n",
    "    def get(self, attr): \n",
    "        return tuple(prob[attr] for prob in self.__attr_prob)\n",
    "\n",
    "    def _laplace_smooth(self, num, total, dimension):\n",
    "        return (num+self.__smooth_alpha)/(total+dimension*self.__smooth_alpha)\n",
    "    \n",
    "class NumCounter(AttrCounter):\n",
    "    def __init__(self, name):\n",
    "        super().__init__(name)\n",
    "\n",
    "    def prepare(self, class_num):\n",
    "        self.__attr_data = [[] for i in range(class_num)]\n",
    "        self.__mean = [0] * class_num\n",
    "        self.__deviation = [0] * class_num\n",
    "    \n",
    "    def add(self, attr, class_index):\n",
    "        self.__attr_data[class_index].append(float(attr))\n",
    "    \n",
    "    def run(self):\n",
    "        for index, data in enumerate(self.__attr_data):\n",
    "            mean = sum(data)/len(data)\n",
    "            deviation = math.sqrt(sum([(x - mean)**2 for x in data])/(len(data)-1))\n",
    "            self.__mean[index] = mean\n",
    "            self.__deviation[index] = deviation\n",
    "        #print(self.__mean, self.__deviation)\n",
    "    \n",
    "    def get(self, attr):\n",
    "        return tuple(self._normal_distribution(float(attr), self.__mean[i], self.__deviation[i]) for i in range(len(self.__mean)))\n",
    "    \n",
    "    def _normal_distribution(self, val, mean, deviation):\n",
    "        return 1/(deviation*math.sqrt(2*math.pi))*np.exp(-((val-mean)/deviation)**2/2) if deviation > 0 else 0\n",
    "    \n",
    "class Num2NomCounter(NomCounter):  \n",
    "    def __init__(self, name, bins):\n",
    "        assert(bins >= 2)\n",
    "        super().__init__(name)\n",
    "        self.__bins = bins\n",
    "\n",
    "    def prepare(self, class_num):\n",
    "        self.__split = [0] * (self.__bins-1)\n",
    "        self.__attr_data = []\n",
    "        self.__attr_count = [[0]*self.__bins for i in range(class_num)]\n",
    "        self.__attr_prob = [[0]*self.__bins for i in range(class_num)]\n",
    "    \n",
    "    def add(self, attr, class_index):\n",
    "        self.__attr_data.append((float(attr), class_index))\n",
    "    \n",
    "    def run(self):\n",
    "        self.__attr_data.sort()\n",
    "        gaps = self.__split_integer(len(self.__attr_data),self.__bins)\n",
    "        cur = 0\n",
    "        for i in range(self.__bins-1):\n",
    "            npos = sum(gaps[:i+1])\n",
    "            self.__split[i] = self.__attr_data[npos][0]\n",
    "            for j in range(cur, npos):\n",
    "                self.__attr_count[self.__attr_data[j][1]][i] += 1\n",
    "            cur = npos\n",
    "        for j in range(cur, len(self.__attr_data)):\n",
    "            self.__attr_count[self.__attr_data[j][1]][i+1] += 1           \n",
    "        for index,attrs in enumerate(self.__attr_count):\n",
    "            total = reduce(lambda x, y: x + y, attrs)\n",
    "            for val, num in enumerate(attrs):\n",
    "                self.__attr_prob[index][val] = self._laplace_smooth(num, total, self.__bins)\n",
    "        # print(self.__split)\n",
    "        # print(self.__attr_count)\n",
    "        # print(self.__attr_prob)\n",
    "        # print(\"____________\")\n",
    "    \n",
    "    def get(self, attr):\n",
    "        attr = float(attr)\n",
    "        for i in range(self.__bins):\n",
    "            if i >= len(self.__split) or attr < self.__split[i]:\n",
    "                break\n",
    "        return tuple(prob[i] for prob in self.__attr_prob)\n",
    "    \n",
    "    def __split_integer(self, m, n):\n",
    "        quotient = int(m / n)\n",
    "        remainder = m % n\n",
    "        if remainder > 0:\n",
    "            return [quotient] * (n - remainder) + [quotient + 1] * remainder\n",
    "        if remainder < 0:\n",
    "            return [quotient - 1] * -remainder + [quotient] * (n + remainder)\n",
    "        return [quotient] * n\n",
    "    \n",
    "class Nom2NumCounter(NumCounter):\n",
    "    def __init__(self, name, mapper):\n",
    "        super().__init__(name)\n",
    "        self.__mapper = mapper\n",
    "    \n",
    "    def add(self, attr, class_index):\n",
    "        self._attr_data[class_index].append(self.__mapper(attr))\n",
    "\n",
    "class Model:\n",
    "    def __init__(self, classes, *counters):\n",
    "        self.__classes = {classname:index for index,classname in enumerate(classes)}\n",
    "        self.__counters = counters\n",
    "        self.__filters = ()\n",
    "        self.__dump_firt_column = False\n",
    "        for index, counter in enumerate(counters):\n",
    "            if isinstance(counter, ClassCounter):\n",
    "                self.__classpos = index\n",
    "            counter.prepare(len(classes))\n",
    "            \n",
    "    def set_filters(self, filters):\n",
    "        self.__filters = filters\n",
    "        \n",
    "    def set_dump_firt_column(self, enabled):\n",
    "        self.__dump_firt_column = enabled\n",
    "            \n",
    "    def preprocess(self, lines):\n",
    "        for line in lines:\n",
    "            inputs = line.strip().split(\",\")[1:] if self.__dump_firt_column else line.strip().split(\",\")\n",
    "            if not inputs or not inputs[0]:\n",
    "                continue\n",
    "            class_index = self.__classes[inputs[self.__classpos]]\n",
    "            for i, val in enumerate(inputs):\n",
    "                if val not in self.__filters:\n",
    "                    if i == self.__classpos:\n",
    "                        self.__counters[i].add(class_index)\n",
    "                    else:\n",
    "                        self.__counters[i].add(val, class_index)\n",
    "                \n",
    "    def train(self):\n",
    "        for counter in self.__counters:\n",
    "            counter.run()\n",
    "\n",
    "    def test(self, lines):\n",
    "        res = []\n",
    "        flag = 1\n",
    "        for line in lines:\n",
    "            inputs = line.strip().split(\",\")[1:] if self.__dump_firt_column else line.strip().split(\",\")\n",
    "            if not inputs or not inputs[0]:\n",
    "                continue\n",
    "            real = self.__classes[inputs[self.__classpos]]\n",
    "            predict = []\n",
    "            for i, val in enumerate(inputs):\n",
    "                if i == self.__classpos:\n",
    "                    predict.append(np.array(self.__counters[i].get()))\n",
    "                else:\n",
    "                    predict.append(np.array(self.__counters[i].get(val)))\n",
    "            res.append((real, np.argmax(reduce(lambda x, y: x*y, predict))))\n",
    "        return res"
   ]
  },
  {
   "cell_type": "code",
   "execution_count": 239,
   "metadata": {},
   "outputs": [],
   "source": [
    "filename = \"datasets/car.data\"\n",
    "classes = (\"unacc\" , \"acc\", \"good\", \"vgood\")\n",
    "model = Model(\n",
    "    classes,\n",
    "    NomCounter(\"buying\"),\n",
    "    NomCounter(\"maint\"),\n",
    "    NomCounter(\"doors\"),\n",
    "    NomCounter(\"persons\"),\n",
    "    NomCounter(\"lug_boot\"),\n",
    "    NomCounter(\"safety\"),\n",
    "    ClassCounter(\"Car Evaluation\")\n",
    ")"
   ]
  },
  {
   "cell_type": "code",
   "execution_count": 248,
   "metadata": {},
   "outputs": [],
   "source": [
    "with open(filename,\"r\") as file:\n",
    "    lines = file.readlines()\n",
    "    model.preprocess(lines)\n",
    "    model.train()\n",
    "    result = model.test(lines)"
   ]
  }
 ],
 "metadata": {
  "kernelspec": {
   "display_name": "Python 3",
   "language": "python",
   "name": "python3"
  },
  "language_info": {
   "codemirror_mode": {
    "name": "ipython",
    "version": 3
   },
   "file_extension": ".py",
   "mimetype": "text/x-python",
   "name": "python",
   "nbconvert_exporter": "python",
   "pygments_lexer": "ipython3",
   "version": "3.7.6"
  }
 },
 "nbformat": 4,
 "nbformat_minor": 4
}
