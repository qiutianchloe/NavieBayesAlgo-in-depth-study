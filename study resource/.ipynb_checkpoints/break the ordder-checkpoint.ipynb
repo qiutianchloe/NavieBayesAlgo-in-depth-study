{
 "cells": [
  {
   "cell_type": "code",
   "execution_count": null,
   "metadata": {},
   "outputs": [],
   "source": [
    ">>> temp=[i for i in range(10)]\n",
    ">>> temp\n",
    "[0, 1, 2, 3, 4, 5, 6, 7, 8, 9]\n",
    ">>> random.shuffle(temp)\n",
    ">>> temp\n",
    "[3, 0, 5, 2, 7, 9, 6, 1, 8, 4]"
   ]
  }
 ],
 "metadata": {
  "kernelspec": {
   "display_name": "Python 3",
   "language": "python",
   "name": "python3"
  },
  "language_info": {
   "codemirror_mode": {
    "name": "ipython",
    "version": 3
   },
   "file_extension": ".py",
   "mimetype": "text/x-python",
   "name": "python",
   "nbconvert_exporter": "python",
   "pygments_lexer": "ipython3",
   "version": "3.7.6"
  }
 },
 "nbformat": 4,
 "nbformat_minor": 4
}
