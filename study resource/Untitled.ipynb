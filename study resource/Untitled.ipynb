{
 "cells": [
  {
   "cell_type": "code",
   "execution_count": 3,
   "metadata": {},
   "outputs": [
    {
     "name": "stdout",
     "output_type": "stream",
     "text": [
      "formal arg: 1\n",
      "<class 'tuple'>\n",
      "another arg: youzan\n",
      "another arg: dba\n",
      "another arg: 四块五的妞\n",
      "-----------------------\n"
     ]
    }
   ],
   "source": [
    "def func_arg(farg, *args):\n",
    "    print(\"formal arg:\", farg)\n",
    "    print(type(args))\n",
    "    for arg in args:\n",
    "        print(\"another arg:\", arg)\n",
    "func_arg(1,\"youzan\",'dba','四块五的妞')\n",
    "print(\"-----------------------\")"
   ]
  },
  {
   "cell_type": "code",
   "execution_count": null,
   "metadata": {},
   "outputs": [],
   "source": []
  }
 ],
 "metadata": {
  "kernelspec": {
   "display_name": "Python 3",
   "language": "python",
   "name": "python3"
  },
  "language_info": {
   "codemirror_mode": {
    "name": "ipython",
    "version": 3
   },
   "file_extension": ".py",
   "mimetype": "text/x-python",
   "name": "python",
   "nbconvert_exporter": "python",
   "pygments_lexer": "ipython3",
   "version": "3.7.6"
  }
 },
 "nbformat": 4,
 "nbformat_minor": 4
}
